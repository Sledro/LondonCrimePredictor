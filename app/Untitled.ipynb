{
 "cells": [
  {
   "cell_type": "code",
   "execution_count": 4,
   "metadata": {
    "scrolled": false
   },
   "outputs": [
    {
     "data": {
      "text/html": [
       "<iframe id=\"igraph\" scrolling=\"no\" style=\"border:none;\" seamless=\"seamless\" src=\"https://plot.ly/~Sledro/6.embed\" height=\"525px\" width=\"100%\"></iframe>"
      ],
      "text/plain": [
       "<plotly.tools.PlotlyDisplay object>"
      ]
     },
     "execution_count": 4,
     "metadata": {},
     "output_type": "execute_result"
    }
   ],
   "source": [
    "# Learn about API authentication here: https://plot.ly/pandas/getting-started\n",
    "# Find your api_key here: https://plot.ly/settings/api\n",
    "# Cufflinks binds plotly to pandas dataframes in IPython notebook. Read more\n",
    "\n",
    "import plotly\n",
    "plotly.tools.set_credentials_file(username='Sledro', api_key='b78t47VjKxyv1HTh9GHN')\n",
    "import plotly.plotly as py\n",
    "import cufflinks as cf\n",
    "import pandas as pd\n",
    "\n",
    "cf.set_config_file(offline=False, world_readable=True, theme='ggplot')\n",
    "\n",
    "df = pd.read_csv('/Users/sledro/Desktop/LondonCrime/Datasets with access/Cleaned.csv', parse_dates=True, index_col=1)\n",
    "df.head(3)\n",
    "\n",
    "series = df['Crime type'].value_counts()[:20]\n",
    "series.head(3)\n",
    "\n",
    "series.iplot(kind='bar', yTitle='Number of Crimes', title='London Crime Stats',filename='categorical-bar-chart')"
   ]
  },
  {
   "cell_type": "code",
   "execution_count": null,
   "metadata": {},
   "outputs": [],
   "source": []
  }
 ],
 "metadata": {
  "kernelspec": {
   "display_name": "Python 3",
   "language": "python",
   "name": "python3"
  },
  "language_info": {
   "codemirror_mode": {
    "name": "ipython",
    "version": 3
   },
   "file_extension": ".py",
   "mimetype": "text/x-python",
   "name": "python",
   "nbconvert_exporter": "python",
   "pygments_lexer": "ipython3",
   "version": "3.6.4"
  }
 },
 "nbformat": 4,
 "nbformat_minor": 2
}
