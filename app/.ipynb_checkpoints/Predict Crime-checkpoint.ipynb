{
 "cells": [
  {
   "cell_type": "code",
   "execution_count": 1,
   "metadata": {},
   "outputs": [],
   "source": [
    "import pandas as pd\n",
    "\n",
    "#Read data from csv and hold it in our data frame\n",
    "df = pd.read_csv('/Users/sledro/Desktop/LondonCrime/Datasets with access/Cleaned.csv', parse_dates=['Month'])"
   ]
  },
  {
   "cell_type": "code",
   "execution_count": 2,
   "metadata": {},
   "outputs": [
    {
     "data": {
      "text/html": [
       "<div>\n",
       "<style scoped>\n",
       "    .dataframe tbody tr th:only-of-type {\n",
       "        vertical-align: middle;\n",
       "    }\n",
       "\n",
       "    .dataframe tbody tr th {\n",
       "        vertical-align: top;\n",
       "    }\n",
       "\n",
       "    .dataframe thead th {\n",
       "        text-align: right;\n",
       "    }\n",
       "</style>\n",
       "<table border=\"1\" class=\"dataframe\">\n",
       "  <thead>\n",
       "    <tr style=\"text-align: right;\">\n",
       "      <th></th>\n",
       "      <th>Unnamed: 0</th>\n",
       "      <th>Month</th>\n",
       "      <th>Longitude</th>\n",
       "      <th>Latitude</th>\n",
       "      <th>Location</th>\n",
       "      <th>Crime type</th>\n",
       "      <th>Last outcome category</th>\n",
       "    </tr>\n",
       "  </thead>\n",
       "  <tbody>\n",
       "    <tr>\n",
       "      <th>0</th>\n",
       "      <td>0</td>\n",
       "      <td>2014-06-01</td>\n",
       "      <td>-0.113767</td>\n",
       "      <td>51.517372</td>\n",
       "      <td>On or near Stone Buildings</td>\n",
       "      <td>Vehicle crime</td>\n",
       "      <td>Investigation complete; no suspect identified</td>\n",
       "    </tr>\n",
       "    <tr>\n",
       "      <th>1</th>\n",
       "      <td>1</td>\n",
       "      <td>2014-06-01</td>\n",
       "      <td>-0.111497</td>\n",
       "      <td>51.518226</td>\n",
       "      <td>On or near Pedestrian Subway</td>\n",
       "      <td>Violence and sexual offences</td>\n",
       "      <td>Unable to prosecute suspect</td>\n",
       "    </tr>\n",
       "    <tr>\n",
       "      <th>2</th>\n",
       "      <td>8</td>\n",
       "      <td>2014-06-01</td>\n",
       "      <td>-0.098572</td>\n",
       "      <td>51.516767</td>\n",
       "      <td>On or near King Edward Street</td>\n",
       "      <td>Bicycle theft</td>\n",
       "      <td>Investigation complete; no suspect identified</td>\n",
       "    </tr>\n",
       "    <tr>\n",
       "      <th>3</th>\n",
       "      <td>9</td>\n",
       "      <td>2014-06-01</td>\n",
       "      <td>-0.097562</td>\n",
       "      <td>51.518864</td>\n",
       "      <td>On or near Parking Area</td>\n",
       "      <td>Bicycle theft</td>\n",
       "      <td>Investigation complete; no suspect identified</td>\n",
       "    </tr>\n",
       "    <tr>\n",
       "      <th>4</th>\n",
       "      <td>10</td>\n",
       "      <td>2014-06-01</td>\n",
       "      <td>-0.097601</td>\n",
       "      <td>51.520699</td>\n",
       "      <td>On or near Carthusian Street</td>\n",
       "      <td>Other theft</td>\n",
       "      <td>Investigation complete; no suspect identified</td>\n",
       "    </tr>\n",
       "  </tbody>\n",
       "</table>\n",
       "</div>"
      ],
      "text/plain": [
       "   Unnamed: 0      Month  Longitude   Latitude                       Location  \\\n",
       "0           0 2014-06-01  -0.113767  51.517372     On or near Stone Buildings   \n",
       "1           1 2014-06-01  -0.111497  51.518226   On or near Pedestrian Subway   \n",
       "2           8 2014-06-01  -0.098572  51.516767  On or near King Edward Street   \n",
       "3           9 2014-06-01  -0.097562  51.518864        On or near Parking Area   \n",
       "4          10 2014-06-01  -0.097601  51.520699   On or near Carthusian Street   \n",
       "\n",
       "                     Crime type                          Last outcome category  \n",
       "0                 Vehicle crime  Investigation complete; no suspect identified  \n",
       "1  Violence and sexual offences                    Unable to prosecute suspect  \n",
       "2                 Bicycle theft  Investigation complete; no suspect identified  \n",
       "3                 Bicycle theft  Investigation complete; no suspect identified  \n",
       "4                   Other theft  Investigation complete; no suspect identified  "
      ]
     },
     "execution_count": 2,
     "metadata": {},
     "output_type": "execute_result"
    }
   ],
   "source": [
    "#Print whats in our data frame (First5 Results)\n",
    "df.head()"
   ]
  },
  {
   "cell_type": "code",
   "execution_count": 3,
   "metadata": {},
   "outputs": [],
   "source": [
    "#Group our data by the number of each type of crimes commit each month\n",
    "groupedCrimes= df.set_index('Month', drop=False).groupby(pd.Grouper(level='Month', freq='M'))['Crime type'].value_counts().unstack()"
   ]
  },
  {
   "cell_type": "code",
   "execution_count": 4,
   "metadata": {
    "scrolled": true
   },
   "outputs": [
    {
     "data": {
      "text/html": [
       "<div>\n",
       "<style scoped>\n",
       "    .dataframe tbody tr th:only-of-type {\n",
       "        vertical-align: middle;\n",
       "    }\n",
       "\n",
       "    .dataframe tbody tr th {\n",
       "        vertical-align: top;\n",
       "    }\n",
       "\n",
       "    .dataframe thead th {\n",
       "        text-align: right;\n",
       "    }\n",
       "</style>\n",
       "<table border=\"1\" class=\"dataframe\">\n",
       "  <thead>\n",
       "    <tr style=\"text-align: right;\">\n",
       "      <th>Crime type</th>\n",
       "      <th>Bicycle theft</th>\n",
       "      <th>Burglary</th>\n",
       "      <th>Criminal damage and arson</th>\n",
       "      <th>Drugs</th>\n",
       "      <th>Other crime</th>\n",
       "      <th>Other theft</th>\n",
       "      <th>Possession of weapons</th>\n",
       "      <th>Public order</th>\n",
       "      <th>Robbery</th>\n",
       "      <th>Shoplifting</th>\n",
       "      <th>Theft from the person</th>\n",
       "      <th>Vehicle crime</th>\n",
       "      <th>Violence and sexual offences</th>\n",
       "    </tr>\n",
       "    <tr>\n",
       "      <th>Month</th>\n",
       "      <th></th>\n",
       "      <th></th>\n",
       "      <th></th>\n",
       "      <th></th>\n",
       "      <th></th>\n",
       "      <th></th>\n",
       "      <th></th>\n",
       "      <th></th>\n",
       "      <th></th>\n",
       "      <th></th>\n",
       "      <th></th>\n",
       "      <th></th>\n",
       "      <th></th>\n",
       "    </tr>\n",
       "  </thead>\n",
       "  <tbody>\n",
       "    <tr>\n",
       "      <th>2014-06-30</th>\n",
       "      <td>1611</td>\n",
       "      <td>5359</td>\n",
       "      <td>4961</td>\n",
       "      <td>3407</td>\n",
       "      <td>530</td>\n",
       "      <td>9681</td>\n",
       "      <td>302</td>\n",
       "      <td>2953</td>\n",
       "      <td>1840</td>\n",
       "      <td>3467</td>\n",
       "      <td>2322</td>\n",
       "      <td>6658</td>\n",
       "      <td>14714</td>\n",
       "    </tr>\n",
       "    <tr>\n",
       "      <th>2014-07-31</th>\n",
       "      <td>1930</td>\n",
       "      <td>5690</td>\n",
       "      <td>4988</td>\n",
       "      <td>3215</td>\n",
       "      <td>653</td>\n",
       "      <td>9890</td>\n",
       "      <td>264</td>\n",
       "      <td>3443</td>\n",
       "      <td>1685</td>\n",
       "      <td>3345</td>\n",
       "      <td>2213</td>\n",
       "      <td>6621</td>\n",
       "      <td>15467</td>\n",
       "    </tr>\n",
       "    <tr>\n",
       "      <th>2014-08-31</th>\n",
       "      <td>1803</td>\n",
       "      <td>5899</td>\n",
       "      <td>4779</td>\n",
       "      <td>3183</td>\n",
       "      <td>633</td>\n",
       "      <td>9205</td>\n",
       "      <td>318</td>\n",
       "      <td>2981</td>\n",
       "      <td>1740</td>\n",
       "      <td>3317</td>\n",
       "      <td>2371</td>\n",
       "      <td>6292</td>\n",
       "      <td>14007</td>\n",
       "    </tr>\n",
       "    <tr>\n",
       "      <th>2014-09-30</th>\n",
       "      <td>1806</td>\n",
       "      <td>5772</td>\n",
       "      <td>4876</td>\n",
       "      <td>2826</td>\n",
       "      <td>672</td>\n",
       "      <td>9308</td>\n",
       "      <td>296</td>\n",
       "      <td>3548</td>\n",
       "      <td>1747</td>\n",
       "      <td>3288</td>\n",
       "      <td>2256</td>\n",
       "      <td>6762</td>\n",
       "      <td>14676</td>\n",
       "    </tr>\n",
       "    <tr>\n",
       "      <th>2014-10-31</th>\n",
       "      <td>1786</td>\n",
       "      <td>6490</td>\n",
       "      <td>5268</td>\n",
       "      <td>3256</td>\n",
       "      <td>677</td>\n",
       "      <td>9579</td>\n",
       "      <td>302</td>\n",
       "      <td>3498</td>\n",
       "      <td>1946</td>\n",
       "      <td>3630</td>\n",
       "      <td>2500</td>\n",
       "      <td>7324</td>\n",
       "      <td>15253</td>\n",
       "    </tr>\n",
       "  </tbody>\n",
       "</table>\n",
       "</div>"
      ],
      "text/plain": [
       "Crime type  Bicycle theft  Burglary  Criminal damage and arson  Drugs  \\\n",
       "Month                                                                   \n",
       "2014-06-30           1611      5359                       4961   3407   \n",
       "2014-07-31           1930      5690                       4988   3215   \n",
       "2014-08-31           1803      5899                       4779   3183   \n",
       "2014-09-30           1806      5772                       4876   2826   \n",
       "2014-10-31           1786      6490                       5268   3256   \n",
       "\n",
       "Crime type  Other crime  Other theft  Possession of weapons  Public order  \\\n",
       "Month                                                                       \n",
       "2014-06-30          530         9681                    302          2953   \n",
       "2014-07-31          653         9890                    264          3443   \n",
       "2014-08-31          633         9205                    318          2981   \n",
       "2014-09-30          672         9308                    296          3548   \n",
       "2014-10-31          677         9579                    302          3498   \n",
       "\n",
       "Crime type  Robbery  Shoplifting  Theft from the person  Vehicle crime  \\\n",
       "Month                                                                    \n",
       "2014-06-30     1840         3467                   2322           6658   \n",
       "2014-07-31     1685         3345                   2213           6621   \n",
       "2014-08-31     1740         3317                   2371           6292   \n",
       "2014-09-30     1747         3288                   2256           6762   \n",
       "2014-10-31     1946         3630                   2500           7324   \n",
       "\n",
       "Crime type  Violence and sexual offences  \n",
       "Month                                     \n",
       "2014-06-30                         14714  \n",
       "2014-07-31                         15467  \n",
       "2014-08-31                         14007  \n",
       "2014-09-30                         14676  \n",
       "2014-10-31                         15253  "
      ]
     },
     "execution_count": 4,
     "metadata": {},
     "output_type": "execute_result"
    }
   ],
   "source": [
    "#Print whats in our groupedCrimes frame (First5 Results)\n",
    "groupedCrimes.head()"
   ]
  },
  {
   "cell_type": "code",
   "execution_count": 5,
   "metadata": {},
   "outputs": [
    {
     "data": {
      "text/plain": [
       "pandas.core.frame.DataFrame"
      ]
     },
     "execution_count": 5,
     "metadata": {},
     "output_type": "execute_result"
    }
   ],
   "source": [
    "type(groupedCrimes)"
   ]
  },
  {
   "cell_type": "code",
   "execution_count": 6,
   "metadata": {},
   "outputs": [],
   "source": [
    "#I change the dates to be integers, I am not sure this is the best way    \n",
    "groupedCrimes.index = pd.to_datetime(groupedCrimes.index)  \n",
    "groupedCrimes.index = (groupedCrimes.index - pd.to_datetime('1970-01-01')).days"
   ]
  },
  {
   "cell_type": "code",
   "execution_count": 8,
   "metadata": {
    "scrolled": true
   },
   "outputs": [],
   "source": [
    "import numpy as np\n",
    "#Define our x and y and reshape if needed\n",
    "from sklearn.cross_validation import train_test_split\n",
    "y = np.asarray(groupedCrimes)\n",
    "#print(y.shape)\n",
    "#print(y)\n",
    "X = np.asarray(groupedCrimes.index).reshape(-1, 1)\n",
    "#print(X.shape)\n",
    "#print(X)\n",
    "#Setup our training data\n",
    "X_train, X_test, y_train, y_test = train_test_split(X,y,train_size=.9,random_state=42)"
   ]
  },
  {
   "cell_type": "code",
   "execution_count": 82,
   "metadata": {},
   "outputs": [
    {
     "data": {
      "text/plain": [
       "0.38722493157302623"
      ]
     },
     "execution_count": 82,
     "metadata": {},
     "output_type": "execute_result"
    }
   ],
   "source": [
    "from sklearn.linear_model import LinearRegression\n",
    "\n",
    "model = LinearRegression() #create linear regression object\n",
    "model.fit(X_train.reshape(-1,1), y_train) #train model on train data\n",
    "model.score(X_train, y_train) #check score"
   ]
  },
  {
   "cell_type": "code",
   "execution_count": 92,
   "metadata": {},
   "outputs": [
    {
     "data": {
      "text/html": [
       "<div>\n",
       "<style scoped>\n",
       "    .dataframe tbody tr th:only-of-type {\n",
       "        vertical-align: middle;\n",
       "    }\n",
       "\n",
       "    .dataframe tbody tr th {\n",
       "        vertical-align: top;\n",
       "    }\n",
       "\n",
       "    .dataframe thead th {\n",
       "        text-align: right;\n",
       "    }\n",
       "</style>\n",
       "<table border=\"1\" class=\"dataframe\">\n",
       "  <thead>\n",
       "    <tr style=\"text-align: right;\">\n",
       "      <th></th>\n",
       "      <th>Bicycle theft</th>\n",
       "      <th>Burglary</th>\n",
       "      <th>Criminal damage and arson</th>\n",
       "      <th>Drugs</th>\n",
       "      <th>Other crime</th>\n",
       "      <th>Other theft</th>\n",
       "      <th>Possession of weapons</th>\n",
       "      <th>Public order</th>\n",
       "      <th>Robbery</th>\n",
       "      <th>Shoplifting</th>\n",
       "      <th>Theft from the person</th>\n",
       "      <th>Vehicle crime</th>\n",
       "      <th>Violence and sexual offences</th>\n",
       "    </tr>\n",
       "    <tr>\n",
       "      <th>Predicted Date</th>\n",
       "      <th></th>\n",
       "      <th></th>\n",
       "      <th></th>\n",
       "      <th></th>\n",
       "      <th></th>\n",
       "      <th></th>\n",
       "      <th></th>\n",
       "      <th></th>\n",
       "      <th></th>\n",
       "      <th></th>\n",
       "      <th></th>\n",
       "      <th></th>\n",
       "      <th></th>\n",
       "    </tr>\n",
       "  </thead>\n",
       "  <tbody>\n",
       "    <tr>\n",
       "      <th>2017-03-31</th>\n",
       "      <td>1491.48283</td>\n",
       "      <td>5803.730227</td>\n",
       "      <td>5155.783695</td>\n",
       "      <td>2609.826382</td>\n",
       "      <td>871.152277</td>\n",
       "      <td>8745.689855</td>\n",
       "      <td>437.914673</td>\n",
       "      <td>3843.283993</td>\n",
       "      <td>2015.479572</td>\n",
       "      <td>4056.081578</td>\n",
       "      <td>3347.330104</td>\n",
       "      <td>7971.583626</td>\n",
       "      <td>17498.231383</td>\n",
       "    </tr>\n",
       "  </tbody>\n",
       "</table>\n",
       "</div>"
      ],
      "text/plain": [
       "                Bicycle theft     Burglary  Criminal damage and arson  \\\n",
       "Predicted Date                                                          \n",
       "2017-03-31         1491.48283  5803.730227                5155.783695   \n",
       "\n",
       "                      Drugs  Other crime  Other theft  Possession of weapons  \\\n",
       "Predicted Date                                                                 \n",
       "2017-03-31      2609.826382   871.152277  8745.689855             437.914673   \n",
       "\n",
       "                Public order      Robbery  Shoplifting  Theft from the person  \\\n",
       "Predicted Date                                                                  \n",
       "2017-03-31       3843.283993  2015.479572  4056.081578            3347.330104   \n",
       "\n",
       "                Vehicle crime  Violence and sexual offences  \n",
       "Predicted Date                                               \n",
       "2017-03-31        7971.583626                  17498.231383  "
      ]
     },
     "execution_count": 92,
     "metadata": {},
     "output_type": "execute_result"
    }
   ],
   "source": [
    "import datetime\n",
    "\n",
    "today = datetime.datetime(int(2017),int(3),int(31))\n",
    "\n",
    "predictMonthEnding = (today - pd.to_datetime('1970-01-01')).days\n",
    "ans = model.predict(predictMonthEnding) #Date to predict - converting datetime's to # of days since 1970-01-01\n",
    "pt=pd.to_datetime(predictMonthEnding, unit='D') #Convert to human date to display on table\n",
    "df = pd.DataFrame(ans[:,:], index=ans[:,0], columns=['Bicycle theft','Burglary', 'Criminal damage and arson','Drugs','Other crime', 'Other theft','Possession of weapons','Public order', 'Robbery','Shoplifting','Theft from the person', 'Vehicle crime','Violence and sexual offences'])\n",
    "df.insert(0, \"Predicted Date\", pt) #Add new index \n",
    "df = df.set_index('Predicted Date') \n",
    "df"
   ]
  },
  {
   "cell_type": "code",
   "execution_count": 93,
   "metadata": {},
   "outputs": [
    {
     "data": {
      "text/plain": [
       "483.04175747475864"
      ]
     },
     "execution_count": 93,
     "metadata": {},
     "output_type": "execute_result"
    }
   ],
   "source": [
    "#Get the mean squared error and find the square root of it\n",
    "#So we have an average of 484 crimes commited from the ground truth\n",
    "from sklearn.metrics import mean_squared_error\n",
    "\n",
    "y_predict = model.predict(X_test)\n",
    "\n",
    "regression_model_mse = mean_squared_error(y_predict, y_test)\n",
    "\n",
    "regression_model_mse\n",
    "\n",
    "import math\n",
    "\n",
    "math.sqrt(regression_model_mse)"
   ]
  },
  {
   "cell_type": "code",
   "execution_count": 94,
   "metadata": {},
   "outputs": [
    {
     "name": "stdout",
     "output_type": "stream",
     "text": [
      "Violence and sexual offences\n",
      "17498\n"
     ]
    }
   ],
   "source": [
    "series=df.idxmax(axis=1)\n",
    "print(series[0])\n",
    "series=df.max(axis=1)\n",
    "print (format(series[0], '.0f'))\n"
   ]
  },
  {
   "cell_type": "code",
   "execution_count": null,
   "metadata": {},
   "outputs": [],
   "source": []
  },
  {
   "cell_type": "code",
   "execution_count": null,
   "metadata": {},
   "outputs": [],
   "source": []
  }
 ],
 "metadata": {
  "kernelspec": {
   "display_name": "Python 3",
   "language": "python",
   "name": "python3"
  },
  "language_info": {
   "codemirror_mode": {
    "name": "ipython",
    "version": 3
   },
   "file_extension": ".py",
   "mimetype": "text/x-python",
   "name": "python",
   "nbconvert_exporter": "python",
   "pygments_lexer": "ipython3",
   "version": "3.6.4"
  },
  "widgets": {
   "application/vnd.jupyter.widget-state+json": {
    "state": {},
    "version_major": 2,
    "version_minor": 0
   }
  }
 },
 "nbformat": 4,
 "nbformat_minor": 2
}
